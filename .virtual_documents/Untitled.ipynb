from ctypes import pointer
from dash import Dash, html, dcc, Input, Output
import dash_bootstrap_components as dbc
import altair as alt
import pandas as pd
from vega_datasets import data


colony = pd.read_csv('data/colony.csv')


colony.head()


colony.shape


colony["start_month"] = colony["months"].str.split('-', 1, expand=True)[0]
colony["year_str"] = colony["year"].astype("str")
colony["time"] = colony[['year_str', 'start_month']].agg('-'.join, axis=1)
colony["time"] = pd.to_datetime(colony["time"])
colony["period"] = pd.PeriodIndex(pd.to_datetime(colony["time"]), freq='Q').astype("str")


colony.head()


colony["start_month"] = colony["months"].str.split('-', 1, expand=True)[0]
colony["year_str"] = colony["year"].astype("str")
colony["time"] = colony[['year_str', 'start_month']].agg('-'.join, axis=1)
colony["time"] = pd.to_datetime(colony["time"])
colony["period"] = pd.PeriodIndex(pd.to_datetime(colony["time"]), freq='Q').astype("str")


colony.head()



